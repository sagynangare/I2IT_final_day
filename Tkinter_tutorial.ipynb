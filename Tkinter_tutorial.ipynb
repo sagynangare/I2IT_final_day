{
 "cells": [
  {
   "cell_type": "code",
   "execution_count": 19,
   "id": "be71d557",
   "metadata": {},
   "outputs": [],
   "source": [
    "from tkinter import *\n",
    "window=Tk()\n",
    "window.title(\"I2IT Tkinter Demo\")\n",
    "window.geometry(\"350x200\")\n",
    "lb1=Label(window,text=\"click\",font=(\"Arial Bold\",30))\n",
    "lb1.grid(column=0, row=0)\n",
    "def clicked():\n",
    "    lb1.configure(text=\"Button is clicked!!\")\n",
    "btn=Button(window,text=\"click me\",font=(\"Arial Bold\",15),bg=\"pink\",fg=\"white\",command=clicked)\n",
    "btn.grid(row=0,column=1)\n",
    "txt=Entry(window,width=15)\n",
    "txt.grid(row=1,column=0)\n",
    "btn=Button(window,text=\"submit\",font=(\"Arial Bold\",15),fg=\"red\")\n",
    "btn.grid(row=1,column=1)\n",
    "window.mainloop()"
   ]
  },
  {
   "cell_type": "code",
   "execution_count": null,
   "id": "7fcf7eb4",
   "metadata": {},
   "outputs": [],
   "source": []
  },
  {
   "cell_type": "code",
   "execution_count": null,
   "id": "43b3fe97",
   "metadata": {},
   "outputs": [],
   "source": []
  }
 ],
 "metadata": {
  "kernelspec": {
   "display_name": "Python 3",
   "language": "python",
   "name": "python3"
  },
  "language_info": {
   "codemirror_mode": {
    "name": "ipython",
    "version": 3
   },
   "file_extension": ".py",
   "mimetype": "text/x-python",
   "name": "python",
   "nbconvert_exporter": "python",
   "pygments_lexer": "ipython3",
   "version": "3.7.4"
  }
 },
 "nbformat": 4,
 "nbformat_minor": 5
}
